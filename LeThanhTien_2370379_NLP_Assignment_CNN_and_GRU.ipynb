{
  "cells": [
    {
      "cell_type": "code",
      "execution_count": 1,
      "metadata": {
        "id": "NEjxDCnWdSN8",
        "colab": {
          "base_uri": "https://localhost:8080/"
        },
        "outputId": "36c86130-2f86-47b8-9435-22806bb300d7"
      },
      "outputs": [
        {
          "output_type": "stream",
          "name": "stdout",
          "text": [
            "Downloading...\n",
            "From: https://drive.google.com/uc?id=10OWo4v3Op1UQe_rCQX-laToo9wffIPIp\n",
            "To: /content/vlsp_sentiment_test.csv\n",
            "\r  0% 0.00/159k [00:00<?, ?B/s]\r100% 159k/159k [00:00<00:00, 25.9MB/s]\n"
          ]
        }
      ],
      "source": [
        "!gdown https://drive.google.com/file/d/10OWo4v3Op1UQe_rCQX-laToo9wffIPIp/view?usp=sharing --fuzzy"
      ]
    },
    {
      "cell_type": "code",
      "execution_count": 2,
      "metadata": {
        "id": "Sd1H5AuGdAUh",
        "colab": {
          "base_uri": "https://localhost:8080/"
        },
        "outputId": "090d81aa-10b1-42d1-e756-663a88c7a634"
      },
      "outputs": [
        {
          "output_type": "stream",
          "name": "stdout",
          "text": [
            "Downloading...\n",
            "From: https://drive.google.com/uc?id=1CEC49GoeBrCBY3gTGoIFiW0YB5LOZXVb\n",
            "To: /content/vlsp_sentiment_train.csv\n",
            "\r  0% 0.00/858k [00:00<?, ?B/s]\r100% 858k/858k [00:00<00:00, 116MB/s]\n"
          ]
        }
      ],
      "source": [
        "!gdown https://drive.google.com/file/d/1CEC49GoeBrCBY3gTGoIFiW0YB5LOZXVb/view?usp=sharing --fuzzy"
      ]
    },
    {
      "cell_type": "code",
      "execution_count": 3,
      "metadata": {
        "id": "l7K3HKvGdwwc",
        "colab": {
          "base_uri": "https://localhost:8080/"
        },
        "outputId": "0d8b00b6-b1d5-4fa2-ca2a-8403199c0d00"
      },
      "outputs": [
        {
          "output_type": "stream",
          "name": "stdout",
          "text": [
            "Downloading...\n",
            "From (original): https://drive.google.com/uc?id=1d4hk9wBL_MYr0_XACe_67LgCooQYrThl\n",
            "From (redirected): https://drive.google.com/uc?id=1d4hk9wBL_MYr0_XACe_67LgCooQYrThl&confirm=t&uuid=760261f6-a2e8-4f00-99de-612820723d23\n",
            "To: /content/vi-model-CBOW.bin\n",
            "100% 699M/699M [00:07<00:00, 95.4MB/s]\n"
          ]
        }
      ],
      "source": [
        "!gdown https://drive.google.com/file/d/1d4hk9wBL_MYr0_XACe_67LgCooQYrThl/view?usp=sharing --fuzzy"
      ]
    },
    {
      "cell_type": "code",
      "execution_count": 4,
      "metadata": {
        "id": "aoVjFKmOZMZ8",
        "colab": {
          "base_uri": "https://localhost:8080/"
        },
        "outputId": "e8c2c7fa-e07f-45e0-a383-c2ce70996a13"
      },
      "outputs": [
        {
          "output_type": "stream",
          "name": "stdout",
          "text": [
            "Collecting pyvi\n",
            "  Downloading pyvi-0.1.1-py2.py3-none-any.whl (8.5 MB)\n",
            "\u001b[2K     \u001b[90m━━━━━━━━━━━━━━━━━━━━━━━━━━━━━━━━━━━━━━━━\u001b[0m \u001b[32m8.5/8.5 MB\u001b[0m \u001b[31m30.6 MB/s\u001b[0m eta \u001b[36m0:00:00\u001b[0m\n",
            "\u001b[?25hRequirement already satisfied: scikit-learn in /usr/local/lib/python3.10/dist-packages (from pyvi) (1.2.2)\n",
            "Collecting sklearn-crfsuite (from pyvi)\n",
            "  Downloading sklearn_crfsuite-0.3.6-py2.py3-none-any.whl (12 kB)\n",
            "Requirement already satisfied: numpy>=1.17.3 in /usr/local/lib/python3.10/dist-packages (from scikit-learn->pyvi) (1.25.2)\n",
            "Requirement already satisfied: scipy>=1.3.2 in /usr/local/lib/python3.10/dist-packages (from scikit-learn->pyvi) (1.11.4)\n",
            "Requirement already satisfied: joblib>=1.1.1 in /usr/local/lib/python3.10/dist-packages (from scikit-learn->pyvi) (1.4.2)\n",
            "Requirement already satisfied: threadpoolctl>=2.0.0 in /usr/local/lib/python3.10/dist-packages (from scikit-learn->pyvi) (3.5.0)\n",
            "Collecting python-crfsuite>=0.8.3 (from sklearn-crfsuite->pyvi)\n",
            "  Downloading python_crfsuite-0.9.10-cp310-cp310-manylinux_2_17_x86_64.manylinux2014_x86_64.whl (1.1 MB)\n",
            "\u001b[2K     \u001b[90m━━━━━━━━━━━━━━━━━━━━━━━━━━━━━━━━━━━━━━━━\u001b[0m \u001b[32m1.1/1.1 MB\u001b[0m \u001b[31m9.7 MB/s\u001b[0m eta \u001b[36m0:00:00\u001b[0m\n",
            "\u001b[?25hRequirement already satisfied: six in /usr/local/lib/python3.10/dist-packages (from sklearn-crfsuite->pyvi) (1.16.0)\n",
            "Requirement already satisfied: tabulate in /usr/local/lib/python3.10/dist-packages (from sklearn-crfsuite->pyvi) (0.9.0)\n",
            "Requirement already satisfied: tqdm>=2.0 in /usr/local/lib/python3.10/dist-packages (from sklearn-crfsuite->pyvi) (4.66.4)\n",
            "Installing collected packages: python-crfsuite, sklearn-crfsuite, pyvi\n",
            "Successfully installed python-crfsuite-0.9.10 pyvi-0.1.1 sklearn-crfsuite-0.3.6\n"
          ]
        }
      ],
      "source": [
        "!pip install pyvi"
      ]
    },
    {
      "cell_type": "code",
      "execution_count": 5,
      "metadata": {
        "id": "8TFX7wSAmg9y"
      },
      "outputs": [],
      "source": [
        "import tensorflow as tf\n",
        "import pandas as pd\n",
        "import numpy as np\n",
        "from string import digits\n",
        "from collections import Counter\n",
        "from pyvi import ViTokenizer\n",
        "from gensim.models.word2vec import Word2Vec\n",
        "from keras.utils import to_categorical\n",
        "%matplotlib inline"
      ]
    },
    {
      "cell_type": "code",
      "execution_count": 38,
      "metadata": {
        "id": "a7lMy03omg93",
        "scrolled": true
      },
      "outputs": [],
      "source": [
        "data_train = pd.read_csv(\"vlsp_sentiment_train.csv\", sep='\\t')\n",
        "data_train.columns =['Class', 'Data']\n",
        "data_test = pd.read_csv(\"vlsp_sentiment_test.csv\", sep='\\t')\n",
        "data_test.columns =['Class', 'Data']"
      ]
    },
    {
      "cell_type": "code",
      "execution_count": 39,
      "metadata": {
        "id": "4HR1jAzImg94",
        "colab": {
          "base_uri": "https://localhost:8080/"
        },
        "outputId": "4e123a8a-1799-4516-d6c0-a1c7248188fa"
      },
      "outputs": [
        {
          "output_type": "stream",
          "name": "stdout",
          "text": [
            "(5100, 2)\n",
            "(1050, 2)\n"
          ]
        }
      ],
      "source": [
        "print(data_train.shape)\n",
        "print(data_test.shape)"
      ]
    },
    {
      "cell_type": "code",
      "execution_count": 40,
      "metadata": {
        "id": "jvrbwPfZmg95"
      },
      "outputs": [],
      "source": [
        "labels = data_train.iloc[:, 0].values\n",
        "reviews = data_train.iloc[:, 1].values"
      ]
    },
    {
      "cell_type": "code",
      "execution_count": 41,
      "metadata": {
        "id": "3HlbVeHimg95"
      },
      "outputs": [],
      "source": [
        "encoded_labels = []\n",
        "\n",
        "for label in labels:\n",
        "    if label == -1:\n",
        "        encoded_labels.append([1,0,0])\n",
        "    elif label == 0:\n",
        "        encoded_labels.append([0,1,0])\n",
        "    else:\n",
        "        encoded_labels.append([0,0,1])\n",
        "\n",
        "encoded_labels = np.array(encoded_labels)"
      ]
    },
    {
      "cell_type": "code",
      "execution_count": 42,
      "metadata": {
        "id": "Lm4OCwxXmg96"
      },
      "outputs": [],
      "source": [
        "reviews_processed = []\n",
        "unlabeled_processed = []\n",
        "for review in reviews:\n",
        "    review_cool_one = ''.join([char for char in review if char not in digits])\n",
        "    reviews_processed.append(review_cool_one)"
      ]
    },
    {
      "cell_type": "code",
      "execution_count": 43,
      "metadata": {
        "id": "nW2OZgkgmg97"
      },
      "outputs": [],
      "source": [
        "#Use PyVi for Vietnamese word tokenizer\n",
        "word_reviews = []\n",
        "all_words = []\n",
        "for review in reviews_processed:\n",
        "    review = ViTokenizer.tokenize(review.lower())\n",
        "    word_reviews.append(review.split())\n"
      ]
    },
    {
      "cell_type": "code",
      "execution_count": 44,
      "metadata": {
        "id": "pTb0MeDRmg98"
      },
      "outputs": [],
      "source": [
        "EMBEDDING_DIM = 400 # how big is each word vector\n",
        "MAX_VOCAB_SIZE = 10000 # how many unique words to use (i.e num rows in embedding vector)\n",
        "MAX_SEQUENCE_LENGTH = 300 # max number of words in a comment to use"
      ]
    },
    {
      "cell_type": "code",
      "execution_count": 45,
      "metadata": {
        "id": "jW-7mKtWmg9-"
      },
      "outputs": [],
      "source": [
        "from tensorflow.keras.preprocessing.text import Tokenizer\n",
        "from tensorflow.keras.preprocessing.sequence import pad_sequences\n",
        "from tensorflow.keras.utils import to_categorical"
      ]
    },
    {
      "cell_type": "code",
      "execution_count": 46,
      "metadata": {
        "id": "-BHpPSLTmg9_"
      },
      "outputs": [],
      "source": [
        "tokenizer = Tokenizer(num_words=MAX_VOCAB_SIZE, lower=True, char_level=False)\n",
        "tokenizer.fit_on_texts(word_reviews)\n",
        "sequences_train = tokenizer.texts_to_sequences(word_reviews)\n",
        "word_index = tokenizer.word_index\n"
      ]
    },
    {
      "cell_type": "code",
      "execution_count": 47,
      "metadata": {
        "id": "LlV3M2dimg9_"
      },
      "outputs": [],
      "source": [
        "data = pad_sequences(sequences_train, maxlen=MAX_SEQUENCE_LENGTH)\n",
        "labels = encoded_labels"
      ]
    },
    {
      "cell_type": "code",
      "execution_count": 48,
      "metadata": {
        "id": "4dl9VZ3Rmg-A",
        "colab": {
          "base_uri": "https://localhost:8080/"
        },
        "outputId": "01866805-88d1-46ec-afa4-3418896bbfe9"
      },
      "outputs": [
        {
          "output_type": "stream",
          "name": "stdout",
          "text": [
            "Shape of X train and X validation tensor: (5100, 300)\n",
            "Shape of label train and validation tensor: (5100, 3)\n"
          ]
        }
      ],
      "source": [
        "print('Shape of X train and X validation tensor:',data.shape)\n",
        "print('Shape of label train and validation tensor:', labels.shape)"
      ]
    },
    {
      "cell_type": "code",
      "execution_count": 49,
      "metadata": {
        "id": "-KKSjJdJmg-A"
      },
      "outputs": [],
      "source": [
        "import gensim\n",
        "from gensim.models import Word2Vec\n",
        "from gensim.utils import simple_preprocess\n",
        "\n",
        "from gensim.models.keyedvectors import KeyedVectors\n",
        "\n",
        "word_vectors = KeyedVectors.load_word2vec_format('vi-model-CBOW.bin', binary=True)\n",
        "\n",
        "\n",
        "vocabulary_size=min(len(word_index)+1,MAX_VOCAB_SIZE)\n",
        "embedding_matrix = np.zeros((vocabulary_size, EMBEDDING_DIM))\n",
        "for word, i in word_index.items():\n",
        "    if i>=MAX_VOCAB_SIZE:\n",
        "        continue\n",
        "    try:\n",
        "        embedding_vector = word_vectors[word]\n",
        "        embedding_matrix[i] = embedding_vector\n",
        "    except KeyError:\n",
        "        embedding_matrix[i]=np.random.normal(0,np.sqrt(0.25),EMBEDDING_DIM)\n",
        "\n",
        "del(word_vectors)\n",
        "\n",
        "from keras.layers import Embedding\n",
        "embedding_layer = Embedding(vocabulary_size,\n",
        "                            EMBEDDING_DIM,\n",
        "                            weights=[embedding_matrix],\n",
        "                            trainable=True)"
      ]
    },
    {
      "cell_type": "code",
      "execution_count": 33,
      "metadata": {
        "id": "njBANdn5mg-B",
        "colab": {
          "base_uri": "https://localhost:8080/"
        },
        "outputId": "2b953cbe-5a18-4bd2-f50d-ea8b32733798"
      },
      "outputs": [
        {
          "output_type": "stream",
          "name": "stderr",
          "text": [
            "WARNING:tensorflow:Layer gru_2 will not use cuDNN kernels since it doesn't meet the criteria. It will use a generic GPU kernel as fallback when running on GPU.\n",
            "WARNING:tensorflow:Layer gru_2 will not use cuDNN kernels since it doesn't meet the criteria. It will use a generic GPU kernel as fallback when running on GPU.\n",
            "WARNING:tensorflow:Layer gru_2 will not use cuDNN kernels since it doesn't meet the criteria. It will use a generic GPU kernel as fallback when running on GPU.\n",
            "WARNING:absl:`lr` is deprecated in Keras optimizer, please use `learning_rate` or use the legacy optimizer, e.g.,tf.keras.optimizers.legacy.Adam.\n"
          ]
        },
        {
          "output_type": "stream",
          "name": "stdout",
          "text": [
            "Model: \"model_2\"\n",
            "__________________________________________________________________________________________________\n",
            " Layer (type)                Output Shape                 Param #   Connected to                  \n",
            "==================================================================================================\n",
            " input_3 (InputLayer)        [(None, 300)]                0         []                            \n",
            "                                                                                                  \n",
            " embedding (Embedding)       (None, 300, 400)             3167600   ['input_3[0][0]']             \n",
            "                                                                                                  \n",
            " conv1d_6 (Conv1D)           (None, 298, 256)             307456    ['embedding[2][0]']           \n",
            "                                                                                                  \n",
            " conv1d_7 (Conv1D)           (None, 296, 256)             512256    ['embedding[2][0]']           \n",
            "                                                                                                  \n",
            " conv1d_8 (Conv1D)           (None, 294, 256)             717056    ['embedding[2][0]']           \n",
            "                                                                                                  \n",
            " reshape_6 (Reshape)         (None, 298, 256)             0         ['conv1d_6[0][0]']            \n",
            "                                                                                                  \n",
            " reshape_7 (Reshape)         (None, 296, 256)             0         ['conv1d_7[0][0]']            \n",
            "                                                                                                  \n",
            " reshape_8 (Reshape)         (None, 294, 256)             0         ['conv1d_8[0][0]']            \n",
            "                                                                                                  \n",
            " max_pooling1d_6 (MaxPoolin  (None, 1, 256)               0         ['reshape_6[0][0]']           \n",
            " g1D)                                                                                             \n",
            "                                                                                                  \n",
            " max_pooling1d_7 (MaxPoolin  (None, 1, 256)               0         ['reshape_7[0][0]']           \n",
            " g1D)                                                                                             \n",
            "                                                                                                  \n",
            " max_pooling1d_8 (MaxPoolin  (None, 1, 256)               0         ['reshape_8[0][0]']           \n",
            " g1D)                                                                                             \n",
            "                                                                                                  \n",
            " concatenate_2 (Concatenate  (None, 3, 256)               0         ['max_pooling1d_6[0][0]',     \n",
            " )                                                                   'max_pooling1d_7[0][0]',     \n",
            "                                                                     'max_pooling1d_8[0][0]']     \n",
            "                                                                                                  \n",
            " bidirectional_2 (Bidirecti  (None, 1024)                 2365440   ['concatenate_2[0][0]']       \n",
            " onal)                                                                                            \n",
            "                                                                                                  \n",
            " flatten_2 (Flatten)         (None, 1024)                 0         ['bidirectional_2[0][0]']     \n",
            "                                                                                                  \n",
            " dropout_2 (Dropout)         (None, 1024)                 0         ['flatten_2[0][0]']           \n",
            "                                                                                                  \n",
            " dense_2 (Dense)             (None, 3)                    3075      ['dropout_2[0][0]']           \n",
            "                                                                                                  \n",
            "==================================================================================================\n",
            "Total params: 7072883 (26.98 MB)\n",
            "Trainable params: 7072883 (26.98 MB)\n",
            "Non-trainable params: 0 (0.00 Byte)\n",
            "__________________________________________________________________________________________________\n"
          ]
        }
      ],
      "source": [
        "from tensorflow.keras.layers import Dense, Input, GlobalMaxPooling1D\n",
        "from tensorflow.keras.layers import Conv1D, MaxPooling1D, Embedding\n",
        "from tensorflow.keras.models import Model\n",
        "from tensorflow.keras.layers import Input, Dense, Embedding, Dropout,concatenate\n",
        "from tensorflow.keras.layers import Reshape, Flatten,LSTM,GRU,Bidirectional\n",
        "from tensorflow.keras.callbacks import EarlyStopping, ModelCheckpoint\n",
        "from tensorflow.keras.optimizers import Adam\n",
        "from tensorflow.keras.models import Model\n",
        "from tensorflow.keras import regularizers\n",
        "sequence_length = data.shape[1]\n",
        "filter_sizes = [3,5,7]\n",
        "num_filters = 256\n",
        "drop = 0.2\n",
        "\n",
        "inputs = Input(shape=(sequence_length,))\n",
        "embedding = embedding_layer(inputs)\n",
        "# reshape = Reshape((sequence_length,EMBEDDING_DIM,1))(embedding)\n",
        "\n",
        "conv_0 = Conv1D(num_filters, filter_sizes[0],activation='relu',kernel_regularizer=regularizers.l2(0.01))(embedding)\n",
        "conv_1 = Conv1D(num_filters, filter_sizes[1],activation='relu',kernel_regularizer=regularizers.l2(0.01))(embedding)\n",
        "conv_2 = Conv1D(num_filters, filter_sizes[2],activation='relu',kernel_regularizer=regularizers.l2(0.01))(embedding)\n",
        "\n",
        "conv_0 = Reshape((-1, num_filters))(conv_0)\n",
        "conv_1 = Reshape((-1, num_filters))(conv_1)\n",
        "conv_2 = Reshape((-1, num_filters))(conv_2)\n",
        "\n",
        "#sequence_length - filter_sizes[0] + 1\n",
        "maxpool_0 = MaxPooling1D(sequence_length - filter_sizes[0] + 1, strides=1)(conv_0)\n",
        "maxpool_1 = MaxPooling1D(sequence_length - filter_sizes[1] + 1, strides=1)(conv_1)\n",
        "maxpool_2 = MaxPooling1D(sequence_length - filter_sizes[2] + 1, strides=1)(conv_2)\n",
        "\n",
        "\n",
        "merged_tensor = concatenate([maxpool_0, maxpool_1, maxpool_2], axis=1) #\n",
        "merged_tensor = Bidirectional(GRU(512,activation = 'relu'))(merged_tensor)\n",
        "flatten = Flatten()(merged_tensor)\n",
        "\n",
        "\n",
        "#reshape = Reshape((3*num_filters,))(flatten)\n",
        "dropout = Dropout(drop)(flatten)\n",
        "output = Dense(units=3, activation='softmax',kernel_regularizer=regularizers.l2(0.02))(dropout)\n",
        "\n",
        "\n",
        "# this creates a model that includes\n",
        "model = Model(inputs, output)\n",
        "\n",
        "\n",
        "adam = Adam(lr=0.001, beta_1=0.9, beta_2=0.999, epsilon=1e-08)#,weight_decay = 2)\n",
        "model.compile(loss='categorical_crossentropy', optimizer=adam, metrics=['accuracy'])\n",
        "model.summary()\n",
        "\n",
        "#define callbacks\n",
        "early_stopping = EarlyStopping(monitor='loss', min_delta=0.1, patience=4, verbose=1)\n",
        "model_checkpoint = ModelCheckpoint(filepath='best_model.h5', monitor='loss', save_best_only=True, verbose=1)\n",
        "\n",
        "# Combine callbacks into a list\n",
        "callbacks_list = [model_checkpoint]"
      ]
    },
    {
      "cell_type": "code",
      "execution_count": 34,
      "metadata": {
        "id": "Jn0dBlzjmg-D",
        "colab": {
          "base_uri": "https://localhost:8080/"
        },
        "outputId": "8bd49293-5a70-4ff7-f3eb-96ae6485ae5a"
      },
      "outputs": [
        {
          "output_type": "stream",
          "name": "stdout",
          "text": [
            "Epoch 1/100\n",
            "10/10 [==============================] - ETA: 0s - loss: 11.0704 - accuracy: 0.3647\n",
            "Epoch 1: loss improved from inf to 11.07038, saving model to best_model.h5\n",
            "10/10 [==============================] - 9s 480ms/step - loss: 11.0704 - accuracy: 0.3647\n"
          ]
        },
        {
          "output_type": "stream",
          "name": "stderr",
          "text": [
            "/usr/local/lib/python3.10/dist-packages/keras/src/engine/training.py:3103: UserWarning: You are saving your model as an HDF5 file via `model.save()`. This file format is considered legacy. We recommend using instead the native Keras format, e.g. `model.save('my_model.keras')`.\n",
            "  saving_api.save_model(\n"
          ]
        },
        {
          "output_type": "stream",
          "name": "stdout",
          "text": [
            "Epoch 2/100\n",
            "10/10 [==============================] - ETA: 0s - loss: 7.0186 - accuracy: 0.4118\n",
            "Epoch 2: loss improved from 11.07038 to 7.01863, saving model to best_model.h5\n",
            "10/10 [==============================] - 5s 490ms/step - loss: 7.0186 - accuracy: 0.4118\n",
            "Epoch 3/100\n",
            "10/10 [==============================] - ETA: 0s - loss: 4.8777 - accuracy: 0.6382\n",
            "Epoch 3: loss improved from 7.01863 to 4.87768, saving model to best_model.h5\n",
            "10/10 [==============================] - 5s 484ms/step - loss: 4.8777 - accuracy: 0.6382\n",
            "Epoch 4/100\n",
            "10/10 [==============================] - ETA: 0s - loss: 3.3230 - accuracy: 0.7210\n",
            "Epoch 4: loss improved from 4.87768 to 3.32304, saving model to best_model.h5\n",
            "10/10 [==============================] - 5s 497ms/step - loss: 3.3230 - accuracy: 0.7210\n",
            "Epoch 5/100\n",
            "10/10 [==============================] - ETA: 0s - loss: 2.2591 - accuracy: 0.7949\n",
            "Epoch 5: loss improved from 3.32304 to 2.25914, saving model to best_model.h5\n",
            "10/10 [==============================] - 5s 491ms/step - loss: 2.2591 - accuracy: 0.7949\n",
            "Epoch 6/100\n",
            "10/10 [==============================] - ETA: 0s - loss: 1.5570 - accuracy: 0.8880\n",
            "Epoch 6: loss improved from 2.25914 to 1.55704, saving model to best_model.h5\n",
            "10/10 [==============================] - 5s 493ms/step - loss: 1.5570 - accuracy: 0.8880\n",
            "Epoch 7/100\n",
            "10/10 [==============================] - ETA: 0s - loss: 1.0638 - accuracy: 0.9678\n",
            "Epoch 7: loss improved from 1.55704 to 1.06384, saving model to best_model.h5\n",
            "10/10 [==============================] - 5s 513ms/step - loss: 1.0638 - accuracy: 0.9678\n",
            "Epoch 8/100\n",
            "10/10 [==============================] - ETA: 0s - loss: 0.7639 - accuracy: 0.9935\n",
            "Epoch 8: loss improved from 1.06384 to 0.76387, saving model to best_model.h5\n",
            "10/10 [==============================] - 5s 496ms/step - loss: 0.7639 - accuracy: 0.9935\n",
            "Epoch 9/100\n",
            "10/10 [==============================] - ETA: 0s - loss: 0.8291 - accuracy: 0.9400\n",
            "Epoch 9: loss did not improve from 0.76387\n",
            "10/10 [==============================] - 5s 473ms/step - loss: 0.8291 - accuracy: 0.9400\n",
            "Epoch 10/100\n",
            "10/10 [==============================] - ETA: 0s - loss: 1.1039 - accuracy: 0.8173\n",
            "Epoch 10: loss did not improve from 0.76387\n",
            "10/10 [==============================] - 5s 496ms/step - loss: 1.1039 - accuracy: 0.8173\n",
            "Epoch 11/100\n",
            "10/10 [==============================] - ETA: 0s - loss: 0.9437 - accuracy: 0.9065\n",
            "Epoch 11: loss did not improve from 0.76387\n",
            "10/10 [==============================] - 5s 480ms/step - loss: 0.9437 - accuracy: 0.9065\n",
            "Epoch 12/100\n",
            "10/10 [==============================] - ETA: 0s - loss: 0.8163 - accuracy: 0.9576\n",
            "Epoch 12: loss did not improve from 0.76387\n",
            "10/10 [==============================] - 5s 484ms/step - loss: 0.8163 - accuracy: 0.9576\n",
            "Epoch 13/100\n",
            "10/10 [==============================] - ETA: 0s - loss: 0.6328 - accuracy: 0.9869\n",
            "Epoch 13: loss improved from 0.76387 to 0.63280, saving model to best_model.h5\n",
            "10/10 [==============================] - 5s 511ms/step - loss: 0.6328 - accuracy: 0.9869\n",
            "Epoch 14/100\n",
            "10/10 [==============================] - ETA: 0s - loss: 0.4956 - accuracy: 0.9961\n",
            "Epoch 14: loss improved from 0.63280 to 0.49558, saving model to best_model.h5\n",
            "10/10 [==============================] - 5s 519ms/step - loss: 0.4956 - accuracy: 0.9961\n",
            "Epoch 15/100\n",
            "10/10 [==============================] - ETA: 0s - loss: 0.3975 - accuracy: 0.9988\n",
            "Epoch 15: loss improved from 0.49558 to 0.39750, saving model to best_model.h5\n",
            "10/10 [==============================] - 5s 527ms/step - loss: 0.3975 - accuracy: 0.9988\n",
            "Epoch 16/100\n",
            "10/10 [==============================] - ETA: 0s - loss: 0.3280 - accuracy: 0.9994\n",
            "Epoch 16: loss improved from 0.39750 to 0.32799, saving model to best_model.h5\n",
            "10/10 [==============================] - 5s 521ms/step - loss: 0.3280 - accuracy: 0.9994\n",
            "Epoch 17/100\n",
            "10/10 [==============================] - ETA: 0s - loss: 0.2749 - accuracy: 0.9998\n",
            "Epoch 17: loss improved from 0.32799 to 0.27495, saving model to best_model.h5\n",
            "10/10 [==============================] - 5s 551ms/step - loss: 0.2749 - accuracy: 0.9998\n",
            "Epoch 18/100\n",
            "10/10 [==============================] - ETA: 0s - loss: 0.2539 - accuracy: 0.9927\n",
            "Epoch 18: loss improved from 0.27495 to 0.25388, saving model to best_model.h5\n",
            "10/10 [==============================] - 5s 511ms/step - loss: 0.2539 - accuracy: 0.9927\n",
            "Epoch 19/100\n",
            "10/10 [==============================] - ETA: 0s - loss: 3.2114 - accuracy: 0.6218\n",
            "Epoch 19: loss did not improve from 0.25388\n",
            "10/10 [==============================] - 5s 484ms/step - loss: 3.2114 - accuracy: 0.6218\n",
            "Epoch 20/100\n",
            "10/10 [==============================] - ETA: 0s - loss: 1.2830 - accuracy: 0.7588\n",
            "Epoch 20: loss did not improve from 0.25388\n",
            "10/10 [==============================] - 5s 489ms/step - loss: 1.2830 - accuracy: 0.7588\n",
            "Epoch 21/100\n",
            "10/10 [==============================] - ETA: 0s - loss: 1.3189 - accuracy: 0.8531\n",
            "Epoch 21: loss did not improve from 0.25388\n",
            "10/10 [==============================] - 5s 483ms/step - loss: 1.3189 - accuracy: 0.8531\n",
            "Epoch 22/100\n",
            "10/10 [==============================] - ETA: 0s - loss: 1.1302 - accuracy: 0.9031\n",
            "Epoch 22: loss did not improve from 0.25388\n",
            "10/10 [==============================] - 5s 480ms/step - loss: 1.1302 - accuracy: 0.9031\n",
            "Epoch 23/100\n",
            "10/10 [==============================] - ETA: 0s - loss: 0.8984 - accuracy: 0.9527\n",
            "Epoch 23: loss did not improve from 0.25388\n",
            "10/10 [==============================] - 5s 480ms/step - loss: 0.8984 - accuracy: 0.9527\n",
            "Epoch 24/100\n",
            "10/10 [==============================] - ETA: 0s - loss: 0.7126 - accuracy: 0.9880\n",
            "Epoch 24: loss did not improve from 0.25388\n",
            "10/10 [==============================] - 5s 478ms/step - loss: 0.7126 - accuracy: 0.9880\n",
            "Epoch 25/100\n",
            "10/10 [==============================] - ETA: 0s - loss: 0.6040 - accuracy: 0.9945\n",
            "Epoch 25: loss did not improve from 0.25388\n",
            "10/10 [==============================] - 5s 481ms/step - loss: 0.6040 - accuracy: 0.9945\n",
            "Epoch 26/100\n",
            "10/10 [==============================] - ETA: 0s - loss: 0.5188 - accuracy: 0.9984\n",
            "Epoch 26: loss did not improve from 0.25388\n",
            "10/10 [==============================] - 5s 479ms/step - loss: 0.5188 - accuracy: 0.9984\n",
            "Epoch 27/100\n",
            "10/10 [==============================] - ETA: 0s - loss: 0.4520 - accuracy: 0.9990\n",
            "Epoch 27: loss did not improve from 0.25388\n",
            "10/10 [==============================] - 5s 480ms/step - loss: 0.4520 - accuracy: 0.9990\n",
            "Epoch 28/100\n",
            "10/10 [==============================] - ETA: 0s - loss: 0.3953 - accuracy: 0.9994\n",
            "Epoch 28: loss did not improve from 0.25388\n",
            "10/10 [==============================] - 5s 484ms/step - loss: 0.3953 - accuracy: 0.9994\n",
            "Epoch 29/100\n",
            "10/10 [==============================] - ETA: 0s - loss: 0.3495 - accuracy: 0.9996\n",
            "Epoch 29: loss did not improve from 0.25388\n",
            "10/10 [==============================] - 5s 482ms/step - loss: 0.3495 - accuracy: 0.9996\n",
            "Epoch 30/100\n",
            "10/10 [==============================] - ETA: 0s - loss: 0.3108 - accuracy: 0.9996\n",
            "Epoch 30: loss did not improve from 0.25388\n",
            "10/10 [==============================] - 5s 486ms/step - loss: 0.3108 - accuracy: 0.9996\n",
            "Epoch 31/100\n",
            "10/10 [==============================] - ETA: 0s - loss: 0.2784 - accuracy: 0.9998\n",
            "Epoch 31: loss did not improve from 0.25388\n",
            "10/10 [==============================] - 5s 485ms/step - loss: 0.2784 - accuracy: 0.9998\n",
            "Epoch 32/100\n",
            "10/10 [==============================] - ETA: 0s - loss: 0.2512 - accuracy: 1.0000\n",
            "Epoch 32: loss improved from 0.25388 to 0.25116, saving model to best_model.h5\n",
            "10/10 [==============================] - 5s 510ms/step - loss: 0.2512 - accuracy: 1.0000\n",
            "Epoch 33/100\n",
            "10/10 [==============================] - ETA: 0s - loss: 0.2284 - accuracy: 1.0000\n",
            "Epoch 33: loss improved from 0.25116 to 0.22837, saving model to best_model.h5\n",
            "10/10 [==============================] - 5s 513ms/step - loss: 0.2284 - accuracy: 1.0000\n",
            "Epoch 34/100\n",
            "10/10 [==============================] - ETA: 0s - loss: 0.2093 - accuracy: 1.0000\n",
            "Epoch 34: loss improved from 0.22837 to 0.20926, saving model to best_model.h5\n",
            "10/10 [==============================] - 5s 510ms/step - loss: 0.2093 - accuracy: 1.0000\n",
            "Epoch 35/100\n",
            "10/10 [==============================] - ETA: 0s - loss: 4.9221 - accuracy: 0.6916\n",
            "Epoch 35: loss did not improve from 0.20926\n",
            "10/10 [==============================] - 5s 485ms/step - loss: 4.9221 - accuracy: 0.6916\n",
            "Epoch 36/100\n",
            "10/10 [==============================] - ETA: 0s - loss: 1.4252 - accuracy: 0.7380\n",
            "Epoch 36: loss did not improve from 0.20926\n",
            "10/10 [==============================] - 5s 485ms/step - loss: 1.4252 - accuracy: 0.7380\n",
            "Epoch 37/100\n",
            "10/10 [==============================] - ETA: 0s - loss: 1.5892 - accuracy: 0.8308\n",
            "Epoch 37: loss did not improve from 0.20926\n",
            "10/10 [==============================] - 5s 485ms/step - loss: 1.5892 - accuracy: 0.8308\n",
            "Epoch 38/100\n",
            "10/10 [==============================] - ETA: 0s - loss: 1.4475 - accuracy: 0.8845\n",
            "Epoch 38: loss did not improve from 0.20926\n",
            "10/10 [==============================] - 5s 487ms/step - loss: 1.4475 - accuracy: 0.8845\n",
            "Epoch 39/100\n",
            "10/10 [==============================] - ETA: 0s - loss: 1.2243 - accuracy: 0.9335\n",
            "Epoch 39: loss did not improve from 0.20926\n",
            "10/10 [==============================] - 5s 498ms/step - loss: 1.2243 - accuracy: 0.9335\n",
            "Epoch 40/100\n",
            "10/10 [==============================] - ETA: 0s - loss: 1.0213 - accuracy: 0.9739\n",
            "Epoch 40: loss did not improve from 0.20926\n",
            "10/10 [==============================] - 5s 483ms/step - loss: 1.0213 - accuracy: 0.9739\n",
            "Epoch 41/100\n",
            "10/10 [==============================] - ETA: 0s - loss: 0.8699 - accuracy: 0.9922\n",
            "Epoch 41: loss did not improve from 0.20926\n",
            "10/10 [==============================] - 5s 484ms/step - loss: 0.8699 - accuracy: 0.9922\n",
            "Epoch 42/100\n",
            "10/10 [==============================] - ETA: 0s - loss: 0.7621 - accuracy: 0.9967\n",
            "Epoch 42: loss did not improve from 0.20926\n",
            "10/10 [==============================] - 5s 482ms/step - loss: 0.7621 - accuracy: 0.9967\n",
            "Epoch 43/100\n",
            "10/10 [==============================] - ETA: 0s - loss: 0.6774 - accuracy: 0.9990\n",
            "Epoch 43: loss did not improve from 0.20926\n",
            "10/10 [==============================] - 5s 484ms/step - loss: 0.6774 - accuracy: 0.9990\n",
            "Epoch 44/100\n",
            "10/10 [==============================] - ETA: 0s - loss: 0.6086 - accuracy: 0.9996\n",
            "Epoch 44: loss did not improve from 0.20926\n",
            "10/10 [==============================] - 5s 482ms/step - loss: 0.6086 - accuracy: 0.9996\n",
            "Epoch 45/100\n",
            "10/10 [==============================] - ETA: 0s - loss: 0.5529 - accuracy: 0.9990\n",
            "Epoch 45: loss did not improve from 0.20926\n",
            "10/10 [==============================] - 5s 482ms/step - loss: 0.5529 - accuracy: 0.9990\n",
            "Epoch 46/100\n",
            "10/10 [==============================] - ETA: 0s - loss: 0.5082 - accuracy: 0.9986\n",
            "Epoch 46: loss did not improve from 0.20926\n",
            "10/10 [==============================] - 5s 486ms/step - loss: 0.5082 - accuracy: 0.9986\n",
            "Epoch 47/100\n",
            "10/10 [==============================] - ETA: 0s - loss: 0.4752 - accuracy: 0.9976\n",
            "Epoch 47: loss did not improve from 0.20926\n",
            "10/10 [==============================] - 5s 484ms/step - loss: 0.4752 - accuracy: 0.9976\n",
            "Epoch 48/100\n",
            "10/10 [==============================] - ETA: 0s - loss: 0.4625 - accuracy: 0.9945\n",
            "Epoch 48: loss did not improve from 0.20926\n",
            "10/10 [==============================] - 5s 485ms/step - loss: 0.4625 - accuracy: 0.9945\n",
            "Epoch 49/100\n",
            "10/10 [==============================] - ETA: 0s - loss: 0.4446 - accuracy: 0.9973\n",
            "Epoch 49: loss did not improve from 0.20926\n",
            "10/10 [==============================] - 5s 485ms/step - loss: 0.4446 - accuracy: 0.9973\n",
            "Epoch 50/100\n",
            "10/10 [==============================] - ETA: 0s - loss: 0.4224 - accuracy: 0.9982\n",
            "Epoch 50: loss did not improve from 0.20926\n",
            "10/10 [==============================] - 5s 484ms/step - loss: 0.4224 - accuracy: 0.9982\n",
            "Epoch 51/100\n",
            "10/10 [==============================] - ETA: 0s - loss: 0.3928 - accuracy: 0.9994\n",
            "Epoch 51: loss did not improve from 0.20926\n",
            "10/10 [==============================] - 5s 486ms/step - loss: 0.3928 - accuracy: 0.9994\n",
            "Epoch 52/100\n",
            "10/10 [==============================] - ETA: 0s - loss: 0.3809 - accuracy: 0.9929\n",
            "Epoch 52: loss did not improve from 0.20926\n",
            "10/10 [==============================] - 5s 483ms/step - loss: 0.3809 - accuracy: 0.9929\n",
            "Epoch 53/100\n",
            "10/10 [==============================] - ETA: 0s - loss: 0.6918 - accuracy: 0.8973\n",
            "Epoch 53: loss did not improve from 0.20926\n",
            "10/10 [==============================] - 5s 483ms/step - loss: 0.6918 - accuracy: 0.8973\n",
            "Epoch 54/100\n",
            "10/10 [==============================] - ETA: 0s - loss: 0.6034 - accuracy: 0.9567\n",
            "Epoch 54: loss did not improve from 0.20926\n",
            "10/10 [==============================] - 5s 482ms/step - loss: 0.6034 - accuracy: 0.9567\n",
            "Epoch 55/100\n",
            "10/10 [==============================] - ETA: 0s - loss: 0.5692 - accuracy: 0.9853\n",
            "Epoch 55: loss did not improve from 0.20926\n",
            "10/10 [==============================] - 5s 481ms/step - loss: 0.5692 - accuracy: 0.9853\n",
            "Epoch 56/100\n",
            "10/10 [==============================] - ETA: 0s - loss: 0.4939 - accuracy: 0.9980\n",
            "Epoch 56: loss did not improve from 0.20926\n",
            "10/10 [==============================] - 5s 482ms/step - loss: 0.4939 - accuracy: 0.9980\n",
            "Epoch 57/100\n",
            "10/10 [==============================] - ETA: 0s - loss: 0.4303 - accuracy: 0.9996\n",
            "Epoch 57: loss did not improve from 0.20926\n",
            "10/10 [==============================] - 5s 480ms/step - loss: 0.4303 - accuracy: 0.9996\n",
            "Epoch 58/100\n",
            "10/10 [==============================] - ETA: 0s - loss: 0.3758 - accuracy: 0.9996\n",
            "Epoch 58: loss did not improve from 0.20926\n",
            "10/10 [==============================] - 5s 481ms/step - loss: 0.3758 - accuracy: 0.9996\n",
            "Epoch 59/100\n",
            "10/10 [==============================] - ETA: 0s - loss: 0.3319 - accuracy: 0.9996\n",
            "Epoch 59: loss did not improve from 0.20926\n",
            "10/10 [==============================] - 5s 482ms/step - loss: 0.3319 - accuracy: 0.9996\n",
            "Epoch 60/100\n",
            "10/10 [==============================] - ETA: 0s - loss: 0.2973 - accuracy: 0.9996\n",
            "Epoch 60: loss did not improve from 0.20926\n",
            "10/10 [==============================] - 5s 481ms/step - loss: 0.2973 - accuracy: 0.9996\n",
            "Epoch 61/100\n",
            "10/10 [==============================] - ETA: 0s - loss: 0.2695 - accuracy: 0.9998\n",
            "Epoch 61: loss did not improve from 0.20926\n",
            "10/10 [==============================] - 5s 481ms/step - loss: 0.2695 - accuracy: 0.9998\n",
            "Epoch 62/100\n",
            "10/10 [==============================] - ETA: 0s - loss: 0.2466 - accuracy: 0.9998\n",
            "Epoch 62: loss did not improve from 0.20926\n",
            "10/10 [==============================] - 5s 482ms/step - loss: 0.2466 - accuracy: 0.9998\n",
            "Epoch 63/100\n",
            "10/10 [==============================] - ETA: 0s - loss: 0.2274 - accuracy: 1.0000\n",
            "Epoch 63: loss did not improve from 0.20926\n",
            "10/10 [==============================] - 5s 481ms/step - loss: 0.2274 - accuracy: 1.0000\n",
            "Epoch 64/100\n",
            "10/10 [==============================] - ETA: 0s - loss: 0.2113 - accuracy: 1.0000\n",
            "Epoch 64: loss did not improve from 0.20926\n",
            "10/10 [==============================] - 5s 482ms/step - loss: 0.2113 - accuracy: 1.0000\n",
            "Epoch 65/100\n",
            "10/10 [==============================] - ETA: 0s - loss: 0.1974 - accuracy: 1.0000\n",
            "Epoch 65: loss improved from 0.20926 to 0.19742, saving model to best_model.h5\n",
            "10/10 [==============================] - 5s 510ms/step - loss: 0.1974 - accuracy: 1.0000\n",
            "Epoch 66/100\n",
            "10/10 [==============================] - ETA: 0s - loss: 0.1853 - accuracy: 1.0000\n",
            "Epoch 66: loss improved from 0.19742 to 0.18530, saving model to best_model.h5\n",
            "10/10 [==============================] - 5s 507ms/step - loss: 0.1853 - accuracy: 1.0000\n",
            "Epoch 67/100\n",
            "10/10 [==============================] - ETA: 0s - loss: 0.1744 - accuracy: 1.0000\n",
            "Epoch 67: loss improved from 0.18530 to 0.17442, saving model to best_model.h5\n",
            "10/10 [==============================] - 5s 510ms/step - loss: 0.1744 - accuracy: 1.0000\n",
            "Epoch 68/100\n",
            "10/10 [==============================] - ETA: 0s - loss: 0.1651 - accuracy: 0.9998\n",
            "Epoch 68: loss improved from 0.17442 to 0.16505, saving model to best_model.h5\n",
            "10/10 [==============================] - 5s 508ms/step - loss: 0.1651 - accuracy: 0.9998\n",
            "Epoch 69/100\n",
            "10/10 [==============================] - ETA: 0s - loss: 0.1591 - accuracy: 0.9994\n",
            "Epoch 69: loss improved from 0.16505 to 0.15908, saving model to best_model.h5\n",
            "10/10 [==============================] - 5s 517ms/step - loss: 0.1591 - accuracy: 0.9994\n",
            "Epoch 70/100\n",
            "10/10 [==============================] - ETA: 0s - loss: 0.1577 - accuracy: 0.9992\n",
            "Epoch 70: loss improved from 0.15908 to 0.15768, saving model to best_model.h5\n",
            "10/10 [==============================] - 5s 521ms/step - loss: 0.1577 - accuracy: 0.9992\n",
            "Epoch 71/100\n",
            "10/10 [==============================] - ETA: 0s - loss: 0.2142 - accuracy: 0.9822\n",
            "Epoch 71: loss did not improve from 0.15768\n",
            "10/10 [==============================] - 5s 482ms/step - loss: 0.2142 - accuracy: 0.9822\n",
            "Epoch 72/100\n",
            "10/10 [==============================] - ETA: 0s - loss: 0.3103 - accuracy: 0.9724\n",
            "Epoch 72: loss did not improve from 0.15768\n",
            "10/10 [==============================] - 5s 486ms/step - loss: 0.3103 - accuracy: 0.9724\n",
            "Epoch 73/100\n",
            "10/10 [==============================] - ETA: 0s - loss: 0.3606 - accuracy: 0.9843\n",
            "Epoch 73: loss did not improve from 0.15768\n",
            "10/10 [==============================] - 5s 484ms/step - loss: 0.3606 - accuracy: 0.9843\n",
            "Epoch 74/100\n",
            "10/10 [==============================] - ETA: 0s - loss: 0.3505 - accuracy: 0.9924\n",
            "Epoch 74: loss did not improve from 0.15768\n",
            "10/10 [==============================] - 5s 485ms/step - loss: 0.3505 - accuracy: 0.9924\n",
            "Epoch 75/100\n",
            "10/10 [==============================] - ETA: 0s - loss: 0.3164 - accuracy: 0.9988\n",
            "Epoch 75: loss did not improve from 0.15768\n",
            "10/10 [==============================] - 5s 486ms/step - loss: 0.3164 - accuracy: 0.9988\n",
            "Epoch 76/100\n",
            "10/10 [==============================] - ETA: 0s - loss: 0.2745 - accuracy: 0.9998\n",
            "Epoch 76: loss did not improve from 0.15768\n",
            "10/10 [==============================] - 5s 484ms/step - loss: 0.2745 - accuracy: 0.9998\n",
            "Epoch 77/100\n",
            "10/10 [==============================] - ETA: 0s - loss: 0.2346 - accuracy: 1.0000\n",
            "Epoch 77: loss did not improve from 0.15768\n",
            "10/10 [==============================] - 5s 485ms/step - loss: 0.2346 - accuracy: 1.0000\n",
            "Epoch 78/100\n",
            "10/10 [==============================] - ETA: 0s - loss: 0.2027 - accuracy: 1.0000\n",
            "Epoch 78: loss did not improve from 0.15768\n",
            "10/10 [==============================] - 5s 484ms/step - loss: 0.2027 - accuracy: 1.0000\n",
            "Epoch 79/100\n",
            "10/10 [==============================] - ETA: 0s - loss: 0.1778 - accuracy: 1.0000\n",
            "Epoch 79: loss did not improve from 0.15768\n",
            "10/10 [==============================] - 5s 483ms/step - loss: 0.1778 - accuracy: 1.0000\n",
            "Epoch 80/100\n",
            "10/10 [==============================] - ETA: 0s - loss: 0.1585 - accuracy: 1.0000\n",
            "Epoch 80: loss did not improve from 0.15768\n",
            "10/10 [==============================] - 5s 485ms/step - loss: 0.1585 - accuracy: 1.0000\n",
            "Epoch 81/100\n",
            "10/10 [==============================] - ETA: 0s - loss: 0.1434 - accuracy: 1.0000\n",
            "Epoch 81: loss improved from 0.15768 to 0.14338, saving model to best_model.h5\n",
            "10/10 [==============================] - 5s 510ms/step - loss: 0.1434 - accuracy: 1.0000\n",
            "Epoch 82/100\n",
            "10/10 [==============================] - ETA: 0s - loss: 0.1311 - accuracy: 1.0000\n",
            "Epoch 82: loss improved from 0.14338 to 0.13110, saving model to best_model.h5\n",
            "10/10 [==============================] - 5s 522ms/step - loss: 0.1311 - accuracy: 1.0000\n",
            "Epoch 83/100\n",
            "10/10 [==============================] - ETA: 0s - loss: 0.1210 - accuracy: 1.0000\n",
            "Epoch 83: loss improved from 0.13110 to 0.12103, saving model to best_model.h5\n",
            "10/10 [==============================] - 5s 507ms/step - loss: 0.1210 - accuracy: 1.0000\n",
            "Epoch 84/100\n",
            "10/10 [==============================] - ETA: 0s - loss: 0.1123 - accuracy: 1.0000\n",
            "Epoch 84: loss improved from 0.12103 to 0.11228, saving model to best_model.h5\n",
            "10/10 [==============================] - 5s 507ms/step - loss: 0.1123 - accuracy: 1.0000\n",
            "Epoch 85/100\n",
            "10/10 [==============================] - ETA: 0s - loss: 0.1048 - accuracy: 1.0000\n",
            "Epoch 85: loss improved from 0.11228 to 0.10482, saving model to best_model.h5\n",
            "10/10 [==============================] - 5s 511ms/step - loss: 0.1048 - accuracy: 1.0000\n",
            "Epoch 86/100\n",
            "10/10 [==============================] - ETA: 0s - loss: 0.0982 - accuracy: 1.0000\n",
            "Epoch 86: loss improved from 0.10482 to 0.09823, saving model to best_model.h5\n",
            "10/10 [==============================] - 5s 508ms/step - loss: 0.0982 - accuracy: 1.0000\n",
            "Epoch 87/100\n",
            "10/10 [==============================] - ETA: 0s - loss: 0.0925 - accuracy: 1.0000\n",
            "Epoch 87: loss improved from 0.09823 to 0.09247, saving model to best_model.h5\n",
            "10/10 [==============================] - 5s 524ms/step - loss: 0.0925 - accuracy: 1.0000\n",
            "Epoch 88/100\n",
            "10/10 [==============================] - ETA: 0s - loss: 0.0872 - accuracy: 1.0000\n",
            "Epoch 88: loss improved from 0.09247 to 0.08723, saving model to best_model.h5\n",
            "10/10 [==============================] - 5s 508ms/step - loss: 0.0872 - accuracy: 1.0000\n",
            "Epoch 89/100\n",
            "10/10 [==============================] - ETA: 0s - loss: 0.0826 - accuracy: 1.0000\n",
            "Epoch 89: loss improved from 0.08723 to 0.08256, saving model to best_model.h5\n",
            "10/10 [==============================] - 5s 508ms/step - loss: 0.0826 - accuracy: 1.0000\n",
            "Epoch 90/100\n",
            "10/10 [==============================] - ETA: 0s - loss: 0.0783 - accuracy: 1.0000\n",
            "Epoch 90: loss improved from 0.08256 to 0.07830, saving model to best_model.h5\n",
            "10/10 [==============================] - 5s 514ms/step - loss: 0.0783 - accuracy: 1.0000\n",
            "Epoch 91/100\n",
            "10/10 [==============================] - ETA: 0s - loss: 0.0745 - accuracy: 1.0000\n",
            "Epoch 91: loss improved from 0.07830 to 0.07449, saving model to best_model.h5\n",
            "10/10 [==============================] - 5s 509ms/step - loss: 0.0745 - accuracy: 1.0000\n",
            "Epoch 92/100\n",
            "10/10 [==============================] - ETA: 0s - loss: 0.0712 - accuracy: 1.0000\n",
            "Epoch 92: loss improved from 0.07449 to 0.07115, saving model to best_model.h5\n",
            "10/10 [==============================] - 5s 525ms/step - loss: 0.0712 - accuracy: 1.0000\n",
            "Epoch 93/100\n",
            "10/10 [==============================] - ETA: 0s - loss: 5.2926 - accuracy: 0.7186\n",
            "Epoch 93: loss did not improve from 0.07115\n",
            "10/10 [==============================] - 5s 481ms/step - loss: 5.2926 - accuracy: 0.7186\n",
            "Epoch 94/100\n",
            "10/10 [==============================] - ETA: 0s - loss: 1.7185 - accuracy: 0.6041\n",
            "Epoch 94: loss did not improve from 0.07115\n",
            "10/10 [==============================] - 5s 481ms/step - loss: 1.7185 - accuracy: 0.6041\n",
            "Epoch 95/100\n",
            "10/10 [==============================] - ETA: 0s - loss: 2.0441 - accuracy: 0.7786\n",
            "Epoch 95: loss did not improve from 0.07115\n",
            "10/10 [==============================] - 5s 484ms/step - loss: 2.0441 - accuracy: 0.7786\n",
            "Epoch 96/100\n",
            "10/10 [==============================] - ETA: 0s - loss: 1.8250 - accuracy: 0.8739\n",
            "Epoch 96: loss did not improve from 0.07115\n",
            "10/10 [==============================] - 5s 480ms/step - loss: 1.8250 - accuracy: 0.8739\n",
            "Epoch 97/100\n",
            "10/10 [==============================] - ETA: 0s - loss: 1.5764 - accuracy: 0.9286\n",
            "Epoch 97: loss did not improve from 0.07115\n",
            "10/10 [==============================] - 5s 482ms/step - loss: 1.5764 - accuracy: 0.9286\n",
            "Epoch 98/100\n",
            "10/10 [==============================] - ETA: 0s - loss: 1.3306 - accuracy: 0.9731\n",
            "Epoch 98: loss did not improve from 0.07115\n",
            "10/10 [==============================] - 5s 482ms/step - loss: 1.3306 - accuracy: 0.9731\n",
            "Epoch 99/100\n",
            "10/10 [==============================] - ETA: 0s - loss: 1.1480 - accuracy: 0.9947\n",
            "Epoch 99: loss did not improve from 0.07115\n",
            "10/10 [==============================] - 5s 480ms/step - loss: 1.1480 - accuracy: 0.9947\n",
            "Epoch 100/100\n",
            "10/10 [==============================] - ETA: 0s - loss: 1.0153 - accuracy: 0.9986\n",
            "Epoch 100: loss did not improve from 0.07115\n",
            "10/10 [==============================] - 5s 484ms/step - loss: 1.0153 - accuracy: 0.9986\n"
          ]
        },
        {
          "output_type": "execute_result",
          "data": {
            "text/plain": [
              "<keras.src.callbacks.History at 0x7c47f2624bb0>"
            ]
          },
          "metadata": {},
          "execution_count": 34
        }
      ],
      "source": [
        "model.fit(data, labels,  epochs=100, batch_size=512, callbacks=callbacks_list, shuffle=True) #validation_split=0.2,"
      ]
    },
    {
      "cell_type": "code",
      "execution_count": 50,
      "metadata": {
        "id": "8XoN2UOamg-D"
      },
      "outputs": [],
      "source": [
        "labels_test = data_test.iloc[:, 0].values\n",
        "reviews_test = data_test.iloc[:, 1].values"
      ]
    },
    {
      "cell_type": "code",
      "execution_count": 51,
      "metadata": {
        "id": "PwiYb3Ohmg-E"
      },
      "outputs": [],
      "source": [
        "encoded_labels_test = []\n",
        "\n",
        "for label_test in labels_test:\n",
        "    if label_test == -1:\n",
        "        encoded_labels_test.append([1,0,0])\n",
        "    elif label_test == 0:\n",
        "        encoded_labels_test.append([0,1,0])\n",
        "    else:\n",
        "        encoded_labels_test.append([0,0,1])\n",
        "\n",
        "encoded_labels_test = np.array(encoded_labels_test)"
      ]
    },
    {
      "cell_type": "code",
      "execution_count": 52,
      "metadata": {
        "id": "E08tBw9img-E"
      },
      "outputs": [],
      "source": [
        "reviews_processed_test = []\n",
        "unlabeled_processed_test = []\n",
        "for review_test in reviews_test:\n",
        "    review_cool_one = ''.join([char for char in review_test if char not in digits])\n",
        "    reviews_processed_test.append(review_cool_one)"
      ]
    },
    {
      "cell_type": "code",
      "execution_count": 53,
      "metadata": {
        "id": "OwgI9Xywmg-E"
      },
      "outputs": [],
      "source": [
        "#Use PyVi for Vietnamese word tokenizer\n",
        "word_reviews_test = []\n",
        "all_words = []\n",
        "for review_test in reviews_processed_test:\n",
        "    review_test = ViTokenizer.tokenize(review_test.lower())\n",
        "    word_reviews_test.append(review_test.split())"
      ]
    },
    {
      "cell_type": "code",
      "execution_count": 54,
      "metadata": {
        "id": "p02GxCh6mg-F"
      },
      "outputs": [],
      "source": [
        "sequences_test = tokenizer.texts_to_sequences(word_reviews_test)\n",
        "data_test = pad_sequences(sequences_test, maxlen=MAX_SEQUENCE_LENGTH)\n",
        "labels_test = encoded_labels_test"
      ]
    },
    {
      "cell_type": "code",
      "execution_count": 57,
      "metadata": {
        "id": "jAqUMGInmg-F",
        "colab": {
          "base_uri": "https://localhost:8080/"
        },
        "outputId": "2989520d-23b1-4500-f9b6-0dffd7e677ed"
      },
      "outputs": [
        {
          "output_type": "stream",
          "name": "stdout",
          "text": [
            "Shape of X train and X validation tensor: (1050, 300)\n",
            "Shape of label train and validation tensor: (1050, 3)\n"
          ]
        }
      ],
      "source": [
        "print('Shape of X train and X validation tensor:',data_test.shape)\n",
        "print('Shape of label train and validation tensor:', labels_test.shape)"
      ]
    },
    {
      "cell_type": "code",
      "execution_count": 58,
      "metadata": {
        "id": "LKclttiOmg-F",
        "colab": {
          "base_uri": "https://localhost:8080/"
        },
        "outputId": "bb157df6-1d37-45a7-c48d-7742712ffeb3"
      },
      "outputs": [
        {
          "output_type": "stream",
          "name": "stdout",
          "text": [
            "33/33 [==============================] - 1s 15ms/step - loss: 2.3404 - accuracy: 0.6790\n"
          ]
        }
      ],
      "source": [
        "score = model.evaluate(data_test, labels_test)"
      ]
    },
    {
      "cell_type": "code",
      "execution_count": 59,
      "metadata": {
        "id": "r31_uxxgmg-G",
        "colab": {
          "base_uri": "https://localhost:8080/"
        },
        "outputId": "00fb29a4-5cac-44c8-cc92-350ca47a303a"
      },
      "outputs": [
        {
          "output_type": "stream",
          "name": "stdout",
          "text": [
            "loss: 234.04\n",
            "accuracy: 67.90%\n"
          ]
        }
      ],
      "source": [
        "print(\"%s: %.2f\" % (model.metrics_names[0], score[0]*100))\n",
        "print(\"%s: %.2f%%\" % (model.metrics_names[1], score[1]*100))\n"
      ]
    },
    {
      "cell_type": "code",
      "execution_count": 60,
      "metadata": {
        "id": "v8O3z4IFmg-G",
        "colab": {
          "base_uri": "https://localhost:8080/"
        },
        "outputId": "33cbce63-18b2-49a9-d17a-c24574e6bc39"
      },
      "outputs": [
        {
          "output_type": "stream",
          "name": "stdout",
          "text": [
            "33/33 [==============================] - 1s 12ms/step\n"
          ]
        }
      ],
      "source": [
        "predictions = model.predict(data_test)"
      ]
    },
    {
      "cell_type": "code",
      "source": [
        "predictions = predictions.argmax(axis = 1 )"
      ],
      "metadata": {
        "id": "rb3m0ewuLe-K"
      },
      "execution_count": 61,
      "outputs": []
    },
    {
      "cell_type": "code",
      "source": [
        "labels_test_class = labels_test.argmax(axis = 1 )"
      ],
      "metadata": {
        "id": "fnr0jWgVLbCV"
      },
      "execution_count": 62,
      "outputs": []
    },
    {
      "cell_type": "code",
      "source": [
        "from sklearn.metrics import confusion_matrix, ConfusionMatrixDisplay\n",
        "mtrx = confusion_matrix(labels_test_class, predictions)\n",
        "\n",
        "disp = ConfusionMatrixDisplay(confusion_matrix=mtrx,display_labels=[-1,0,1])\n",
        "disp.plot()"
      ],
      "metadata": {
        "colab": {
          "base_uri": "https://localhost:8080/",
          "height": 466
        },
        "id": "yeNUZRElL3xC",
        "outputId": "c9f8d8cc-113c-466d-eeb4-fe38e47ad3cd"
      },
      "execution_count": 63,
      "outputs": [
        {
          "output_type": "execute_result",
          "data": {
            "text/plain": [
              "<sklearn.metrics._plot.confusion_matrix.ConfusionMatrixDisplay at 0x7c481ddafd60>"
            ]
          },
          "metadata": {},
          "execution_count": 63
        },
        {
          "output_type": "display_data",
          "data": {
            "text/plain": [
              "<Figure size 640x480 with 2 Axes>"
            ],
            "image/png": "[encoded data removed]"
          },
          "metadata": {}
        }
      ]
    },
    {
      "cell_type": "code",
      "source": [],
      "metadata": {
        "id": "oiy5JskDw8Qv"
      },
      "execution_count": 31,
      "outputs": []
    }
  ],
  "metadata": {
    "accelerator": "GPU",
    "colab": {
      "provenance": [],
      "gpuType": "T4"
    },
    "kernelspec": {
      "display_name": "Python 3",
      "name": "python3"
    },
    "language_info": {
      "codemirror_mode": {
        "name": "ipython",
        "version": 3
      },
      "file_extension": ".py",
      "mimetype": "text/x-python",
      "name": "python",
      "nbconvert_exporter": "python",
      "pygments_lexer": "ipython3",
      "version": "3.7.3"
    }
  },
  "nbformat": 4,
  "nbformat_minor": 0
}